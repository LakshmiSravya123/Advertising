{
  "nbformat": 4,
  "nbformat_minor": 0,
  "metadata": {
    "colab": {
      "name": "Module 4 Spark.ipynb",
      "provenance": [],
      "collapsed_sections": []
    },
    "kernelspec": {
      "name": "python3",
      "display_name": "Python 3"
    },
    "language_info": {
      "name": "python"
    }
  },
  "cells": [
    {
      "cell_type": "code",
      "execution_count": 2,
      "metadata": {
        "id": "gcc-hbdzRGZ9"
      },
      "outputs": [],
      "source": [
        "# innstall java\n",
        "!apt-get install openjdk-8-jdk-headless -qq > /dev/null\n",
        "\n",
        "# install spark (change the version number if needed)\n",
        "!wget -q https://archive.apache.org/dist/spark/spark-3.0.0/spark-3.0.0-bin-hadoop3.2.tgz\n",
        "\n",
        "# unzip the spark file to the current folder\n",
        "!tar xf spark-3.0.0-bin-hadoop3.2.tgz\n",
        "\n",
        "# set your spark folder to your system path environment. \n",
        "import os\n",
        "os.environ[\"JAVA_HOME\"] = \"/usr/lib/jvm/java-8-openjdk-amd64\"\n",
        "os.environ[\"SPARK_HOME\"] = \"/content/spark-3.0.0-bin-hadoop3.2\"\n",
        "\n",
        "# install findspark using pip\n",
        "!pip install -q findspark"
      ]
    },
    {
      "cell_type": "code",
      "source": [
        "import findspark\n",
        "findspark.init()\n",
        "from pyspark.sql import SparkSession\n",
        "spark = SparkSession.builder.master(\"local[*]\").getOrCreate()\n",
        "df2 = spark.read.csv(\"sample_data/Advertising.csv\",inferSchema=True,header=True)"
      ],
      "metadata": {
        "id": "XpfeonsSRYht"
      },
      "execution_count": 3,
      "outputs": []
    },
    {
      "cell_type": "code",
      "source": [
        "df2.show(5)"
      ],
      "metadata": {
        "colab": {
          "base_uri": "https://localhost:8080/"
        },
        "id": "jf2_-XSeRe-F",
        "outputId": "71014159-97d5-4e07-d642-38b926bfd315"
      },
      "execution_count": 4,
      "outputs": [
        {
          "output_type": "stream",
          "name": "stdout",
          "text": [
            "+---+-----+-----+---------+-----+\n",
            "|_c0|   TV|Radio|Newspaper|Sales|\n",
            "+---+-----+-----+---------+-----+\n",
            "|  1|230.1| 37.8|     69.2| 22.1|\n",
            "|  2| 44.5| 39.3|     45.1| 10.4|\n",
            "|  3| 17.2| 45.9|     69.3|  9.3|\n",
            "|  4|151.5| 41.3|     58.5| 18.5|\n",
            "|  5|180.8| 10.8|     58.4| 12.9|\n",
            "+---+-----+-----+---------+-----+\n",
            "only showing top 5 rows\n",
            "\n"
          ]
        }
      ]
    },
    {
      "cell_type": "code",
      "source": [
        "##Imports\n",
        "from pyspark.ml.feature import VectorAssembler\n",
        "from pyspark.ml.regression import LinearRegression\n",
        "from pyspark.ml.feature import VectorAssembler,StandardScaler,PCA\n",
        "import numpy as np\n",
        "import pandas as pd\n",
        "import matplotlib.pyplot as plt"
      ],
      "metadata": {
        "id": "_JPmyG0ORiM5"
      },
      "execution_count": null,
      "outputs": []
    },
    {
      "cell_type": "code",
      "source": [
        "df2.describe().show()"
      ],
      "metadata": {
        "colab": {
          "base_uri": "https://localhost:8080/"
        },
        "id": "swYS_FgTraL5",
        "outputId": "4d6d1a52-9d70-4dfb-93a0-2175544da41a"
      },
      "execution_count": null,
      "outputs": [
        {
          "output_type": "stream",
          "name": "stdout",
          "text": [
            "+-------+------------------+-----------------+------------------+------------------+------------------+\n",
            "|summary|               _c0|               TV|             Radio|         Newspaper|             Sales|\n",
            "+-------+------------------+-----------------+------------------+------------------+------------------+\n",
            "|  count|               200|              200|               200|               200|               200|\n",
            "|   mean|             100.5|         147.0425|23.264000000000024|30.553999999999995|14.022500000000003|\n",
            "| stddev|57.879184513951124|85.85423631490805|14.846809176168728| 21.77862083852283| 5.217456565710477|\n",
            "|    min|                 1|              0.7|               0.0|               0.3|               1.6|\n",
            "|    max|               200|            296.4|              49.6|             114.0|              27.0|\n",
            "+-------+------------------+-----------------+------------------+------------------+------------------+\n",
            "\n"
          ]
        }
      ]
    },
    {
      "cell_type": "code",
      "source": [
        ""
      ],
      "metadata": {
        "id": "T8rJny5urmbq"
      },
      "execution_count": null,
      "outputs": []
    },
    {
      "cell_type": "code",
      "source": [
        "only_features= ['TV','Radio','Newspaper']\n",
        "assembler= VectorAssembler(inputCols=only_features,outputCol='features')"
      ],
      "metadata": {
        "id": "Y2QWYLrBRocJ"
      },
      "execution_count": null,
      "outputs": []
    },
    {
      "cell_type": "code",
      "source": [
        "feat_df=assembler.transform(df2).select('features')"
      ],
      "metadata": {
        "id": "82OFI2bhR2Du"
      },
      "execution_count": null,
      "outputs": []
    },
    {
      "cell_type": "code",
      "source": [
        "## Standardise the dataset\n",
        "scaler= StandardScaler(inputCol='features',outputCol='scaledFeature',withMean=True,withStd=True).fit(feat_df)\n",
        "df_scaled=scaler.transform(feat_df)\n",
        "df_scaled.show(5)"
      ],
      "metadata": {
        "colab": {
          "base_uri": "https://localhost:8080/"
        },
        "id": "YTX3h1HWR9ZV",
        "outputId": "80533a6f-22f5-46ea-c7dc-12ac92e86390"
      },
      "execution_count": null,
      "outputs": [
        {
          "output_type": "stream",
          "name": "stdout",
          "text": [
            "+-----------------+--------------------+\n",
            "|         features|       scaledFeature|\n",
            "+-----------------+--------------------+\n",
            "|[230.1,37.8,69.2]|[0.96742459737630...|\n",
            "| [44.5,39.3,45.1]|[-1.1943790359264...|\n",
            "| [17.2,45.9,69.3]|[-1.5123598505232...|\n",
            "|[151.5,41.3,58.5]|[0.05191939491081...|\n",
            "|[180.8,10.8,58.4]|[0.39319550728026...|\n",
            "+-----------------+--------------------+\n",
            "only showing top 5 rows\n",
            "\n"
          ]
        }
      ]
    },
    {
      "cell_type": "code",
      "source": [
        "n_components=2\n",
        "pca=PCA(k=n_components,inputCol='scaledFeature',outputCol='pcafeatures').fit(df_scaled)\n",
        "\n",
        "df_pca=pca.transform(df_scaled)\n",
        "print('explained variance Ratio',pca.explainedVariance.toArray())\n",
        "df_pca.show(5)"
      ],
      "metadata": {
        "colab": {
          "base_uri": "https://localhost:8080/"
        },
        "id": "GQHQx9phSAuc",
        "outputId": "0b58a083-2ec1-4357-e31e-6fb4291cff65"
      },
      "execution_count": null,
      "outputs": [
        {
          "output_type": "stream",
          "name": "stdout",
          "text": [
            "explained variance Ratio [0.45695084 0.32775205]\n",
            "+-----------------+--------------------+--------------------+\n",
            "|         features|       scaledFeature|         pcafeatures|\n",
            "+-----------------+--------------------+--------------------+\n",
            "|[230.1,37.8,69.2]|[0.96742459737630...|[-2.1058392721893...|\n",
            "| [44.5,39.3,45.1]|[-1.1943790359264...|[-0.9606335733251...|\n",
            "| [17.2,45.9,69.3]|[-1.5123598505232...|[-1.9707403972183...|\n",
            "|[151.5,41.3,58.5]|[0.05191939491081...|[-1.7385725893865...|\n",
            "|[180.8,10.8,58.4]|[0.39319550728026...|[-0.3859922767747...|\n",
            "+-----------------+--------------------+--------------------+\n",
            "only showing top 5 rows\n",
            "\n"
          ]
        }
      ]
    },
    {
      "cell_type": "code",
      "source": [
        "X_pca=df_pca.rdd.map(lambda row:row.pcafeatures).collect()\n",
        "X_pca=np.array(X_pca)\n",
        "X_pca"
      ],
      "metadata": {
        "colab": {
          "base_uri": "https://localhost:8080/"
        },
        "id": "gP7xke1iSIae",
        "outputId": "cecd9745-6fd7-45fb-ffe5-f0a490f63b44"
      },
      "execution_count": null,
      "outputs": [
        {
          "output_type": "execute_result",
          "data": {
            "text/plain": [
              "array([[-2.10583927e+00,  5.43662934e-01],\n",
              "       [-9.60633573e-01, -1.42631574e+00],\n",
              "       [-1.97074040e+00, -1.96424460e+00],\n",
              "       [-1.73857259e+00, -3.16210062e-01],\n",
              "       [-3.85992277e-01,  3.25710224e-01],\n",
              "       [-2.27095950e+00, -2.12909888e+00],\n",
              "       [-3.16392365e-03, -1.06954631e+00],\n",
              "       [ 8.37803613e-01, -1.43282612e-01],\n",
              "       [ 2.25973711e+00, -1.16811228e+00],\n",
              "       [ 1.13174114e+00,  8.71352524e-01],\n",
              "       [ 1.21112899e+00, -7.04045111e-01],\n",
              "       [ 6.45551937e-01,  9.39379939e-01],\n",
              "       [-1.37575783e+00, -1.75765519e+00],\n",
              "       [ 1.59138183e+00, -2.51789118e-01],\n",
              "       [-1.07761783e+00,  4.50575283e-01],\n",
              "       [-1.96498841e+00,  1.56546628e-01],\n",
              "       [-3.08032084e+00, -1.59022678e+00],\n",
              "       [-1.88814402e+00,  1.19878569e+00],\n",
              "       [ 7.06510804e-01, -7.77803747e-01],\n",
              "       [ 3.33661526e-01,  7.24262954e-02],\n",
              "       [-1.10518820e+00,  6.16874488e-01],\n",
              "       [ 8.51207823e-01,  1.25929261e+00],\n",
              "       [ 6.18905298e-02, -1.57687012e+00],\n",
              "       [ 2.37949209e-01,  1.01877918e+00],\n",
              "       [ 1.09111018e+00, -7.76784613e-01],\n",
              "       [ 9.91059261e-01,  1.59245256e+00],\n",
              "       [ 2.99354135e-01,  1.09389492e-02],\n",
              "       [ 3.23535918e-01,  1.17710255e+00],\n",
              "       [-1.81843468e-01,  1.17139113e+00],\n",
              "       [ 1.97837350e-01, -8.65596632e-01],\n",
              "       [-9.89449863e-01,  1.52720802e+00],\n",
              "       [ 1.00118356e-01, -3.83200261e-01],\n",
              "       [ 1.15180318e+00, -3.44810421e-01],\n",
              "       [ 8.26137482e-01,  1.58412924e+00],\n",
              "       [ 1.87811190e+00, -2.11126329e-01],\n",
              "       [ 1.24528625e+00,  1.97602841e+00],\n",
              "       [-4.34668155e-01,  1.32789116e+00],\n",
              "       [-1.52316153e+00, -1.18802697e+00],\n",
              "       [-5.27701383e-02, -1.24899051e+00],\n",
              "       [-9.14224188e-01,  7.67262499e-01],\n",
              "       [-1.22616065e-01,  6.34619894e-01],\n",
              "       [-8.03359709e-01,  1.85157183e-01],\n",
              "       [ 3.52107440e-01,  1.81558091e+00],\n",
              "       [ 6.79243666e-01,  8.59320558e-01],\n",
              "       [-2.23139592e-01, -1.49832667e+00],\n",
              "       [-6.24106867e-02,  3.21094850e-01],\n",
              "       [ 5.97691807e-01, -5.52703380e-01],\n",
              "       [-6.91092324e-01,  9.53998732e-01],\n",
              "       [-4.61129705e-01,  8.60279421e-01],\n",
              "       [ 5.34124580e-01, -8.37900141e-01],\n",
              "       [ 6.82728121e-01,  7.77513357e-01],\n",
              "       [ 1.60559767e+00, -2.15052477e-01],\n",
              "       [-1.31387066e+00,  5.44418628e-01],\n",
              "       [-2.04841406e+00, -1.26009425e-02],\n",
              "       [-7.22699719e-02,  1.35900732e+00],\n",
              "       [-2.27820222e+00,  1.32236325e-01],\n",
              "       [-2.31441868e-01, -1.71272535e+00],\n",
              "       [ 6.58837240e-01,  9.90541170e-03],\n",
              "       [-1.60784000e+00,  4.13576313e-01],\n",
              "       [ 2.30723787e-01,  8.03245551e-01],\n",
              "       [ 1.50755596e+00, -7.90739615e-01],\n",
              "       [-1.94889217e+00,  9.45825398e-01],\n",
              "       [ 2.41563861e-01,  1.15092606e+00],\n",
              "       [ 5.16154808e-01, -4.22256241e-01],\n",
              "       [-8.18616753e-01, -3.67596416e-01],\n",
              "       [ 1.78137644e+00, -5.51880362e-01],\n",
              "       [ 1.11836975e+00, -1.14196100e+00],\n",
              "       [ 1.07353742e+00,  1.35011497e-01],\n",
              "       [ 2.05203682e-01,  1.11633645e+00],\n",
              "       [-1.02333245e+00,  6.08972337e-01],\n",
              "       [-7.26476779e-01,  4.65169233e-01],\n",
              "       [ 4.71205697e-01, -3.41546116e-01],\n",
              "       [ 1.95291818e-01, -1.39349878e+00],\n",
              "       [ 8.36948565e-01, -2.89023696e-02],\n",
              "       [ 3.31644084e-01,  8.58216969e-01],\n",
              "       [-2.50615586e+00, -2.07868540e+00],\n",
              "       [ 1.61137531e+00, -1.07829022e+00],\n",
              "       [ 3.40011658e-01, -2.46806054e-01],\n",
              "       [ 7.06000282e-01, -1.54045848e+00],\n",
              "       [ 1.03677632e+00, -1.47390427e-01],\n",
              "       [ 2.73268677e-01, -7.84776220e-01],\n",
              "       [ 4.66236886e-01,  1.20791690e+00],\n",
              "       [ 2.49909666e-01, -8.00390296e-01],\n",
              "       [-9.58835994e-01, -1.14348113e+00],\n",
              "       [-1.18311777e+00,  5.36710068e-01],\n",
              "       [-1.00186468e+00,  3.42001614e-01],\n",
              "       [ 4.36411848e-01, -7.52230635e-01],\n",
              "       [-1.75651054e+00, -8.05139728e-01],\n",
              "       [-1.32314932e+00, -9.75731755e-01],\n",
              "       [-1.71473074e+00, -8.09772994e-01],\n",
              "       [ 1.56129695e+00,  1.80777640e-01],\n",
              "       [ 1.22258802e+00, -1.14625948e+00],\n",
              "       [-1.55150830e+00,  5.13325394e-01],\n",
              "       [-2.19415126e+00,  7.73200875e-01],\n",
              "       [ 1.15181984e+00, -2.28028096e-01],\n",
              "       [-1.13751031e+00, -4.68853748e-02],\n",
              "       [ 1.58124921e+00,  9.38605786e-01],\n",
              "       [ 2.85536762e-01,  5.10822106e-01],\n",
              "       [-1.88783018e+00,  1.29661606e+00],\n",
              "       [-1.31742180e+00, -4.22452308e-01],\n",
              "       [ 8.92094954e-02,  9.22174679e-01],\n",
              "       [-3.20364880e+00,  1.10407761e+00],\n",
              "       [ 5.81453774e-01,  1.71043499e+00],\n",
              "       [ 5.85494394e-01,  6.10475259e-01],\n",
              "       [ 6.76930005e-02,  1.09467998e+00],\n",
              "       [-1.95902951e+00, -5.25877838e-01],\n",
              "       [ 8.93745382e-01, -1.26116595e+00],\n",
              "       [ 1.44019149e+00, -3.65125467e-01],\n",
              "       [ 1.54644675e+00, -1.26272666e+00],\n",
              "       [ 3.64301922e-01,  1.36390818e+00],\n",
              "       [-3.13505027e-01,  8.77199862e-01],\n",
              "       [-6.81782818e-01,  9.78640258e-01],\n",
              "       [ 1.19130456e+00,  5.92338498e-01],\n",
              "       [ 6.03369553e-01,  8.71147270e-01],\n",
              "       [-1.05472433e+00, -1.04772290e+00],\n",
              "       [-1.07593619e+00, -1.08470586e+00],\n",
              "       [ 5.93823026e-01,  3.38353830e-02],\n",
              "       [ 1.71767922e+00, -4.74004093e-01],\n",
              "       [-2.12885769e+00, -7.02975802e-01],\n",
              "       [ 9.09564682e-01, -1.32632894e+00],\n",
              "       [-6.47848843e-01, -2.04750787e-01],\n",
              "       [-2.47183578e-01, -1.57683384e+00],\n",
              "       [ 1.26037727e+00,  1.18619234e+00],\n",
              "       [ 1.06834734e-01, -2.66743456e-01],\n",
              "       [-2.00711260e+00,  5.59132840e-01],\n",
              "       [ 8.26618164e-01, -5.35395449e-01],\n",
              "       [-1.02788587e+00, -1.87685901e+00],\n",
              "       [ 1.92364992e+00, -3.85536125e-01],\n",
              "       [-5.06808117e-01,  7.56483782e-01],\n",
              "       [ 3.37673023e-01, -9.65842842e-01],\n",
              "       [ 2.87903198e-01, -1.68714308e+00],\n",
              "       [ 2.66817927e-01,  1.46897482e+00],\n",
              "       [ 1.05639888e+00, -1.43068751e+00],\n",
              "       [-1.11497885e+00,  6.29363552e-01],\n",
              "       [-1.56093535e+00, -1.64169704e+00],\n",
              "       [-1.65602229e-01, -1.21809652e+00],\n",
              "       [ 2.36493011e-01, -1.40138227e+00],\n",
              "       [-1.49512137e+00,  1.19306969e+00],\n",
              "       [ 4.48580572e-01, -1.14531450e+00],\n",
              "       [-1.35939526e-01,  4.14515048e-01],\n",
              "       [ 1.03089437e+00, -6.58887982e-01],\n",
              "       [-2.10927424e+00,  1.10733408e-01],\n",
              "       [-8.73953373e-01,  6.88075726e-01],\n",
              "       [ 7.98505909e-01, -3.31995061e-01],\n",
              "       [ 2.52100509e-01, -5.49245646e-01],\n",
              "       [ 1.69600687e+00,  2.81364349e-01],\n",
              "       [ 1.21242709e+00,  1.36595484e+00],\n",
              "       [-1.86803428e+00,  7.45024756e-01],\n",
              "       [ 6.33262142e-02, -1.29044112e+00],\n",
              "       [ 4.45944252e-01, -1.12560087e+00],\n",
              "       [-9.23423575e-02,  1.57444953e+00],\n",
              "       [ 1.78739639e-01, -2.67126961e-01],\n",
              "       [ 3.95491160e-01,  6.84020001e-01],\n",
              "       [-1.05117070e+00,  6.33393740e-02],\n",
              "       [ 6.70993236e-01,  6.25689243e-01],\n",
              "       [ 1.67890722e+00, -1.34628701e+00],\n",
              "       [-1.44739382e+00, -9.41615770e-01],\n",
              "       [ 1.21485311e+00,  2.94256939e-01],\n",
              "       [-7.72629001e-01, -1.77648113e+00],\n",
              "       [ 1.35113473e-01, -1.52582183e-01],\n",
              "       [ 1.74203501e-01,  3.41126004e-01],\n",
              "       [-1.03083562e+00, -9.49471532e-01],\n",
              "       [ 2.97736806e-01,  5.56073458e-01],\n",
              "       [ 6.54193609e-02,  2.04497053e-01],\n",
              "       [ 1.27023295e+00, -8.69839813e-02],\n",
              "       [-1.01015355e+00,  8.37165338e-01],\n",
              "       [-7.04480186e-02, -1.55650711e+00],\n",
              "       [ 1.05090123e+00,  9.36824766e-01],\n",
              "       [-1.04043011e+00,  5.96190377e-01],\n",
              "       [ 1.02480426e+00,  1.85150891e+00],\n",
              "       [ 1.16428309e+00, -9.07502814e-01],\n",
              "       [-4.67391236e-01,  1.11089431e-01],\n",
              "       [ 8.86533943e-01, -1.33025611e+00],\n",
              "       [ 1.26508364e+00,  5.23913595e-01],\n",
              "       [ 1.29710954e+00,  1.17445038e+00],\n",
              "       [-1.86554628e+00,  1.14654821e+00],\n",
              "       [-2.42633901e-01,  1.15281568e+00],\n",
              "       [ 5.16461483e-01,  3.88924824e-01],\n",
              "       [ 8.80091225e-01,  1.73394111e+00],\n",
              "       [ 9.84314044e-01,  4.30972273e-01],\n",
              "       [ 1.64618208e+00,  4.64655138e-01],\n",
              "       [ 7.59092587e-01,  1.01509394e+00],\n",
              "       [ 1.06501678e+00, -8.52276517e-01],\n",
              "       [-2.56982207e+00,  1.12912234e+00],\n",
              "       [-1.49423816e-01,  1.23977026e+00],\n",
              "       [-8.09186194e-01,  5.12801174e-01],\n",
              "       [ 1.12946411e+00,  1.53602088e-01],\n",
              "       [ 3.26750221e-02,  5.29025634e-01],\n",
              "       [ 9.52792559e-01,  1.85550572e+00],\n",
              "       [ 1.05792964e+00, -1.30228176e+00],\n",
              "       [ 2.16241238e-01, -1.24099189e+00],\n",
              "       [ 1.53375425e+00, -5.26741676e-01],\n",
              "       [ 1.17359066e+00, -1.29307153e+00],\n",
              "       [-6.39990033e-02,  2.14860419e-01],\n",
              "       [ 1.99194071e-01,  6.86453586e-02],\n",
              "       [ 1.70689221e+00, -9.31826710e-01],\n",
              "       [ 1.69651373e+00, -2.68134663e-01],\n",
              "       [ 1.34514289e+00,  6.42130132e-01],\n",
              "       [-2.33565193e+00,  1.13073989e+00],\n",
              "       [ 1.17125770e+00,  1.26170586e+00]])"
            ]
          },
          "metadata": {},
          "execution_count": 25
        }
      ]
    },
    {
      "cell_type": "code",
      "source": [
        "df_pca=pd.DataFrame(X_pca, columns=['PC1','PC2'])\n",
        "df_pca.head()"
      ],
      "metadata": {
        "colab": {
          "base_uri": "https://localhost:8080/",
          "height": 206
        },
        "id": "4VFRYMsaSNe6",
        "outputId": "ba139526-573e-498f-a45b-76971dc4f591"
      },
      "execution_count": null,
      "outputs": [
        {
          "output_type": "execute_result",
          "data": {
            "text/plain": [
              "        PC1       PC2\n",
              "0 -2.105839  0.543663\n",
              "1 -0.960634 -1.426316\n",
              "2 -1.970740 -1.964245\n",
              "3 -1.738573 -0.316210\n",
              "4 -0.385992  0.325710"
            ],
            "text/html": [
              "\n",
              "  <div id=\"df-a9b59cd4-e8f8-45ee-8649-77693860789e\">\n",
              "    <div class=\"colab-df-container\">\n",
              "      <div>\n",
              "<style scoped>\n",
              "    .dataframe tbody tr th:only-of-type {\n",
              "        vertical-align: middle;\n",
              "    }\n",
              "\n",
              "    .dataframe tbody tr th {\n",
              "        vertical-align: top;\n",
              "    }\n",
              "\n",
              "    .dataframe thead th {\n",
              "        text-align: right;\n",
              "    }\n",
              "</style>\n",
              "<table border=\"1\" class=\"dataframe\">\n",
              "  <thead>\n",
              "    <tr style=\"text-align: right;\">\n",
              "      <th></th>\n",
              "      <th>PC1</th>\n",
              "      <th>PC2</th>\n",
              "    </tr>\n",
              "  </thead>\n",
              "  <tbody>\n",
              "    <tr>\n",
              "      <th>0</th>\n",
              "      <td>-2.105839</td>\n",
              "      <td>0.543663</td>\n",
              "    </tr>\n",
              "    <tr>\n",
              "      <th>1</th>\n",
              "      <td>-0.960634</td>\n",
              "      <td>-1.426316</td>\n",
              "    </tr>\n",
              "    <tr>\n",
              "      <th>2</th>\n",
              "      <td>-1.970740</td>\n",
              "      <td>-1.964245</td>\n",
              "    </tr>\n",
              "    <tr>\n",
              "      <th>3</th>\n",
              "      <td>-1.738573</td>\n",
              "      <td>-0.316210</td>\n",
              "    </tr>\n",
              "    <tr>\n",
              "      <th>4</th>\n",
              "      <td>-0.385992</td>\n",
              "      <td>0.325710</td>\n",
              "    </tr>\n",
              "  </tbody>\n",
              "</table>\n",
              "</div>\n",
              "      <button class=\"colab-df-convert\" onclick=\"convertToInteractive('df-a9b59cd4-e8f8-45ee-8649-77693860789e')\"\n",
              "              title=\"Convert this dataframe to an interactive table.\"\n",
              "              style=\"display:none;\">\n",
              "        \n",
              "  <svg xmlns=\"http://www.w3.org/2000/svg\" height=\"24px\"viewBox=\"0 0 24 24\"\n",
              "       width=\"24px\">\n",
              "    <path d=\"M0 0h24v24H0V0z\" fill=\"none\"/>\n",
              "    <path d=\"M18.56 5.44l.94 2.06.94-2.06 2.06-.94-2.06-.94-.94-2.06-.94 2.06-2.06.94zm-11 1L8.5 8.5l.94-2.06 2.06-.94-2.06-.94L8.5 2.5l-.94 2.06-2.06.94zm10 10l.94 2.06.94-2.06 2.06-.94-2.06-.94-.94-2.06-.94 2.06-2.06.94z\"/><path d=\"M17.41 7.96l-1.37-1.37c-.4-.4-.92-.59-1.43-.59-.52 0-1.04.2-1.43.59L10.3 9.45l-7.72 7.72c-.78.78-.78 2.05 0 2.83L4 21.41c.39.39.9.59 1.41.59.51 0 1.02-.2 1.41-.59l7.78-7.78 2.81-2.81c.8-.78.8-2.07 0-2.86zM5.41 20L4 18.59l7.72-7.72 1.47 1.35L5.41 20z\"/>\n",
              "  </svg>\n",
              "      </button>\n",
              "      \n",
              "  <style>\n",
              "    .colab-df-container {\n",
              "      display:flex;\n",
              "      flex-wrap:wrap;\n",
              "      gap: 12px;\n",
              "    }\n",
              "\n",
              "    .colab-df-convert {\n",
              "      background-color: #E8F0FE;\n",
              "      border: none;\n",
              "      border-radius: 50%;\n",
              "      cursor: pointer;\n",
              "      display: none;\n",
              "      fill: #1967D2;\n",
              "      height: 32px;\n",
              "      padding: 0 0 0 0;\n",
              "      width: 32px;\n",
              "    }\n",
              "\n",
              "    .colab-df-convert:hover {\n",
              "      background-color: #E2EBFA;\n",
              "      box-shadow: 0px 1px 2px rgba(60, 64, 67, 0.3), 0px 1px 3px 1px rgba(60, 64, 67, 0.15);\n",
              "      fill: #174EA6;\n",
              "    }\n",
              "\n",
              "    [theme=dark] .colab-df-convert {\n",
              "      background-color: #3B4455;\n",
              "      fill: #D2E3FC;\n",
              "    }\n",
              "\n",
              "    [theme=dark] .colab-df-convert:hover {\n",
              "      background-color: #434B5C;\n",
              "      box-shadow: 0px 1px 3px 1px rgba(0, 0, 0, 0.15);\n",
              "      filter: drop-shadow(0px 1px 2px rgba(0, 0, 0, 0.3));\n",
              "      fill: #FFFFFF;\n",
              "    }\n",
              "  </style>\n",
              "\n",
              "      <script>\n",
              "        const buttonEl =\n",
              "          document.querySelector('#df-a9b59cd4-e8f8-45ee-8649-77693860789e button.colab-df-convert');\n",
              "        buttonEl.style.display =\n",
              "          google.colab.kernel.accessAllowed ? 'block' : 'none';\n",
              "\n",
              "        async function convertToInteractive(key) {\n",
              "          const element = document.querySelector('#df-a9b59cd4-e8f8-45ee-8649-77693860789e');\n",
              "          const dataTable =\n",
              "            await google.colab.kernel.invokeFunction('convertToInteractive',\n",
              "                                                     [key], {});\n",
              "          if (!dataTable) return;\n",
              "\n",
              "          const docLinkHtml = 'Like what you see? Visit the ' +\n",
              "            '<a target=\"_blank\" href=https://colab.research.google.com/notebooks/data_table.ipynb>data table notebook</a>'\n",
              "            + ' to learn more about interactive tables.';\n",
              "          element.innerHTML = '';\n",
              "          dataTable['output_type'] = 'display_data';\n",
              "          await google.colab.output.renderOutput(dataTable, element);\n",
              "          const docLink = document.createElement('div');\n",
              "          docLink.innerHTML = docLinkHtml;\n",
              "          element.appendChild(docLink);\n",
              "        }\n",
              "      </script>\n",
              "    </div>\n",
              "  </div>\n",
              "  "
            ]
          },
          "metadata": {},
          "execution_count": 26
        }
      ]
    },
    {
      "cell_type": "code",
      "source": [
        ""
      ],
      "metadata": {
        "id": "draqGqZfST9o"
      },
      "execution_count": null,
      "outputs": []
    },
    {
      "cell_type": "code",
      "source": [
        "plt.rcParams['figure.figsize']=8,6\n",
        "plt.rcParams['font.size']=14\n",
        "ax1=df_pca.plot.scatter(x='PC1',y='PC2',c='blue')"
      ],
      "metadata": {
        "colab": {
          "base_uri": "https://localhost:8080/",
          "height": 396
        },
        "id": "u5hs9o2aSUJH",
        "outputId": "679edadb-e5da-4abd-9abe-1b1c7a5181aa"
      },
      "execution_count": null,
      "outputs": [
        {
          "output_type": "display_data",
          "data": {
            "text/plain": [
              "<Figure size 576x432 with 1 Axes>"
            ],
            "image/png": "[encoded data removed]"
          },
          "metadata": {
            "needs_background": "light"
          }
        }
      ]
    },
    {
      "cell_type": "code",
      "source": [
        "output=assembler.transform(df2)\n",
        "f_data=output.select('features','Sales')\n",
        "f_data.show(5)"
      ],
      "metadata": {
        "colab": {
          "base_uri": "https://localhost:8080/"
        },
        "id": "8HJzNfu1SYxb",
        "outputId": "eacc1aea-e542-4c68-9b13-30c98b2880e3"
      },
      "execution_count": null,
      "outputs": [
        {
          "output_type": "stream",
          "name": "stdout",
          "text": [
            "+-----------------+-----+\n",
            "|         features|Sales|\n",
            "+-----------------+-----+\n",
            "|[230.1,37.8,69.2]| 22.1|\n",
            "| [44.5,39.3,45.1]| 10.4|\n",
            "| [17.2,45.9,69.3]|  9.3|\n",
            "|[151.5,41.3,58.5]| 18.5|\n",
            "|[180.8,10.8,58.4]| 12.9|\n",
            "+-----------------+-----+\n",
            "only showing top 5 rows\n",
            "\n"
          ]
        }
      ]
    },
    {
      "cell_type": "code",
      "source": [
        "train_data,test_data= f_data.randomSplit([0.80,0.20])"
      ],
      "metadata": {
        "id": "zXIZFB7ZSY09"
      },
      "execution_count": null,
      "outputs": []
    },
    {
      "cell_type": "code",
      "source": [
        "regressor=LinearRegression(featuresCol='features',labelCol='Sales')\n",
        "regressor=regressor.fit(train_data)"
      ],
      "metadata": {
        "id": "30cnZx6ISvdL"
      },
      "execution_count": null,
      "outputs": []
    },
    {
      "cell_type": "code",
      "source": [
        "coeff=regressor.coefficients\n",
        "intr=regressor.intercept\n",
        "\n",
        "\n",
        "print(\"The coefficient of the model is found to be: %a\" %coeff)\n",
        "print(\"The intercept of the model is found to be: %f\" %intr)\n"
      ],
      "metadata": {
        "colab": {
          "base_uri": "https://localhost:8080/"
        },
        "id": "IprhXmpTS0VF",
        "outputId": "64268a54-ced6-42cb-d106-990357fb26d2"
      },
      "execution_count": null,
      "outputs": [
        {
          "output_type": "stream",
          "name": "stdout",
          "text": [
            "The coefficient of the model is found to be: DenseVector([0.0453, 0.1903, -0.0026])\n",
            "The intercept of the model is found to be: 3.061112\n"
          ]
        }
      ]
    },
    {
      "cell_type": "code",
      "source": [
        "pred= regressor.evaluate(test_data)\n",
        "pred.predictions.show(5)"
      ],
      "metadata": {
        "colab": {
          "base_uri": "https://localhost:8080/"
        },
        "id": "EWG080-DS0Xw",
        "outputId": "68a89af1-0b4c-4ec7-dd43-eda5b845d731"
      },
      "execution_count": null,
      "outputs": [
        {
          "output_type": "stream",
          "name": "stdout",
          "text": [
            "+----------------+-----+------------------+\n",
            "|        features|Sales|        prediction|\n",
            "+----------------+-----+------------------+\n",
            "|  [4.1,11.6,5.7]|  3.2| 5.440041855240663|\n",
            "|  [5.4,29.9,9.4]|  5.3| 8.972434868738972|\n",
            "|[11.7,36.9,45.2]|  7.3|10.498576280992928|\n",
            "|[23.8,35.1,65.9]|  9.2|10.651174664209478|\n",
            "| [25.6,39.0,9.3]|  9.5|11.619665934160668|\n",
            "+----------------+-----+------------------+\n",
            "only showing top 5 rows\n",
            "\n"
          ]
        }
      ]
    },
    {
      "cell_type": "code",
      "source": [
        "from pyspark.ml.evaluation import RegressionEvaluator\n",
        "eval=RegressionEvaluator(labelCol='Sales',predictionCol='prediction',metricName='rmse')\n",
        "\n",
        "rmse=eval.evaluate(pred.predictions)\n",
        "print(\"RMSE : %.3f\" %rmse)\n",
        "\n",
        "mse=eval.evaluate(pred.predictions,{eval.metricName:\"mse\"})\n",
        "print(\"MSE : %.3f\" %mse)\n",
        "\n",
        "mae=eval.evaluate(pred.predictions,{eval.metricName:\"mae\"})\n",
        "print(\"MAE : %.3f\" % mae)\n",
        "\n",
        "r2=eval.evaluate(pred.predictions,{eval.metricName:\"r2\"})\n",
        "print(\"r2 : %.3f\" %r2)"
      ],
      "metadata": {
        "colab": {
          "base_uri": "https://localhost:8080/"
        },
        "id": "yvVkYoLjS6wH",
        "outputId": "12b78647-3c5d-40e7-bd51-354f31f94faf"
      },
      "execution_count": null,
      "outputs": [
        {
          "output_type": "stream",
          "name": "stdout",
          "text": [
            "RMSE : 1.589\n",
            "MSE : 2.526\n",
            "MAE : 1.233\n",
            "r2 : 0.882\n"
          ]
        }
      ]
    },
    {
      "cell_type": "code",
      "source": [
        ""
      ],
      "metadata": {
        "id": "8fEnsBYfS0Z7"
      },
      "execution_count": null,
      "outputs": []
    },
    {
      "cell_type": "markdown",
      "source": [
        "9. Regression — Learning Apache Spark with Python documentation. (n.d.). Runaway. Retrieved June 21, 2022, from https://runawayhorse001.github.io/LearningApacheSpark/regression.html\n",
        "\n",
        "Kaggle: Your Home for Data Science. (n.d.). Kaggle. Retrieved June 21, 2022, from https://www.kaggle.com/datasets/bumba5341/\n"
      ],
      "metadata": {
        "id": "jh1LICz1Tr_R"
      }
    },
    {
      "cell_type": "code",
      "source": [
        ""
      ],
      "metadata": {
        "id": "DU1tciM3S0dY"
      },
      "execution_count": null,
      "outputs": []
    }
  ]
}